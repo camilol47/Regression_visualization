{
 "metadata": {
  "language_info": {
   "codemirror_mode": {
    "name": "ipython",
    "version": 3
   },
   "file_extension": ".py",
   "mimetype": "text/x-python",
   "name": "python",
   "nbconvert_exporter": "python",
   "pygments_lexer": "ipython3",
   "version": 3
  },
  "orig_nbformat": 2
 },
 "nbformat": 4,
 "nbformat_minor": 2,
 "cells": [
  {
   "cell_type": "code",
   "execution_count": null,
   "metadata": {},
   "outputs": [],
   "source": [
    "#Create a test, with No. questions and the correct answers \n",
    "def create_test(n_questions):\n",
    "    # 1 or 0 are the type of answers\n",
    "    test = []\n",
    "    for i in range(n_questions):\n",
    "        answer = random.randint(0, 1)\n",
    "        test.append(answer)\n",
    "    return test"
   ]
  }
 ]
}